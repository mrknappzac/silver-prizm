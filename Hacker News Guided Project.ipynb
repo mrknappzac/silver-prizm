{
 "cells": [
  {
   "cell_type": "markdown",
   "metadata": {},
   "source": [
    "# <font color=blue>Analyzing Hacker News Posts</font>\n",
    "\n",
    "We are analyzing the comparison of 'Ask HN' posts vs. 'Show HN' from [Hacker News](https://news.ycombinator.com).\n",
    "\n",
    "For 'Ask HN' posts, users will submit a question to the Hacker News community (ie. \"What are your favorite pod casts?\"). In 'Show HN' posts, users post project, products, and other interesting technology related items.\n",
    "We will campare these two types of posts to learn the following:\n",
    "\n",
    "- Does \"Ask HN\" or \"Show HN\" recieve more comments on average?\n",
    "- Do posts created at a certain time receive more comments on average?\n",
    "\n",
    "We are working with a reduced dataset, from 300,000 to 20,000 rows. This was done by removing posts with no comments and randomly sampling the rest to hit the smaller size."
   ]
  },
  {
   "cell_type": "code",
   "execution_count": 1,
   "metadata": {},
   "outputs": [
    {
     "name": "stdout",
     "output_type": "stream",
     "text": [
      "['id', 'title', 'url', 'num_points', 'num_comments', 'author', 'created_at']\n"
     ]
    }
   ],
   "source": [
    "opened_file = open('hacker_news.csv')\n",
    "\n",
    "from csv import reader\n",
    "\n",
    "read_file = reader(opened_file)\n",
    "hn = list(read_file)                     #making a list of lists\n",
    "\n",
    "headers = hn[0] #check for header\n",
    "print(headers)"
   ]
  },
  {
   "cell_type": "markdown",
   "metadata": {},
   "source": [
    "We checked for a header and will keep as a reference.\n",
    "\n",
    "Now let's take a random sample and make the data readable."
   ]
  },
  {
   "cell_type": "code",
   "execution_count": 2,
   "metadata": {},
   "outputs": [
    {
     "name": "stdout",
     "output_type": "stream",
     "text": [
      "['10627194', 'Show HN: Wio Link  ESP8266 Based Web of Things Hardware Development Platform', 'https://iot.seeed.cc', '26', '22', 'kfihihc', '11/25/2015 14:03']\n",
      "\n",
      "['11587596', 'Custom Deleters for C++ Smart Pointers', 'http://www.bfilipek.com/2016/04/custom-deleters-for-c-smart-pointers.html', '59', '18', 'ingve', '4/28/2016 10:01']\n",
      "\n",
      "['12335860', 'How often to update third party libraries?', '', '7', '5', 'rabid_oxen', '8/22/2016 12:37']\n",
      "\n",
      "['11403750', 'Review my AI based marketing bot', 'http://beta.crowdfireapp.com/?beta=agnipath', '1', '2', 'abhishekmaddy', '4/1/2016 9:45']\n",
      "\n",
      "['10610020', 'Ask HN: Am I the only one outraged by Twitter shutting down share counts?', '', '28', '29', 'tkfx', '11/22/2015 13:43']\n",
      "\n",
      "['10837634', \"Ten years later, did Boston's Big Dig deliver?\", 'https://www.bostonglobe.com/magazine/2015/12/29/years-later-did-big-dig-deliver/tSb8PIMS4QJUETsMpA7SpI/story.html', '109', '116', 'jseliger', '1/4/2016 18:58']\n",
      "\n"
     ]
    }
   ],
   "source": [
    "for row in hn[14:20]:      #random rows to show Ask HN vs Show HN\n",
    "    print(row)\n",
    "    print(\"\")"
   ]
  },
  {
   "cell_type": "markdown",
   "metadata": {},
   "source": [
    "As we can see, we are working with 7 total columns and most interested in the 'title', 'num_comments', and 'created_at'(date).  Within the 'title' column, it will specify startig with \"Ask HN\", \"Show HN\", or neither."
   ]
  },
  {
   "cell_type": "markdown",
   "metadata": {},
   "source": [
    "# Separating Ask vs. Show posts\n",
    "\n",
    "We are going to split the data into separate lists.(i.e. Ask/Show/Other)"
   ]
  },
  {
   "cell_type": "code",
   "execution_count": 3,
   "metadata": {},
   "outputs": [
    {
     "name": "stdout",
     "output_type": "stream",
     "text": [
      "There are 1744 'Ask HN'' posts.\n",
      "There are 1162 'Show HN' posts.\n",
      "There are 17195 other posts.\n"
     ]
    }
   ],
   "source": [
    "ask_posts = []\n",
    "show_posts = []\n",
    "other_posts = []\n",
    "\n",
    "for row in hn:                       #looping through dataset\n",
    "    title = row[1]                   #assigning title column\n",
    "    title = title.lower()            #standarizing our looping check for \"ask hn\"\n",
    "    if title.startswith('ask hn'):   #splitting our lists up based on startswith method\n",
    "        ask_posts.append(row)\n",
    "    elif title.startswith('show hn'):\n",
    "        show_posts.append(row)\n",
    "    else:\n",
    "        other_posts.append(row)\n",
    "        \n",
    "print(\"There are \" + str(len(ask_posts)) + \" \\'Ask HN\\'' posts.\") \n",
    "print(\"There are \" + str(len(show_posts)) + \" \\'Show HN\\' posts.\") \n",
    "print(\"There are \" + str(len(other_posts)) + \" other posts.\") "
   ]
  },
  {
   "cell_type": "markdown",
   "metadata": {},
   "source": [
    "# Finding the average number of comments per post\n",
    "\n",
    "Let's find the average number of comments per post for Ask HN and Show HN."
   ]
  },
  {
   "cell_type": "code",
   "execution_count": 4,
   "metadata": {},
   "outputs": [
    {
     "name": "stdout",
     "output_type": "stream",
     "text": [
      "14.038417431192661\n"
     ]
    }
   ],
   "source": [
    "total_ask_comments = 0\n",
    "\n",
    "for asks in ask_posts:\n",
    "    num_comments = int(asks[4])                #string to int\n",
    "    total_ask_comments += num_comments         #running total        \n",
    "\n",
    "avg_ask_comments = total_ask_comments / len(ask_posts)\n",
    "print(avg_ask_comments)"
   ]
  },
  {
   "cell_type": "code",
   "execution_count": 5,
   "metadata": {},
   "outputs": [
    {
     "name": "stdout",
     "output_type": "stream",
     "text": [
      "10.31669535283993\n"
     ]
    }
   ],
   "source": [
    "total_show_comments = 0\n",
    "\n",
    "for asks in show_posts:\n",
    "    num_comments = int(asks[4])         #string to int\n",
    "    total_show_comments += num_comments  #running total\n",
    "\n",
    "avg_show_comments = total_show_comments / len(show_posts)\n",
    "print(avg_show_comments)"
   ]
  },
  {
   "cell_type": "markdown",
   "metadata": {},
   "source": [
    "As we can see ask posts get an average of 14 comments per post opposed to show posts of an average of 10 comments per post.  Since ask posts have a higher average we will focus on them.\n",
    "\n",
    "# Ask posts and comments by hour\n",
    "\n",
    "Let's look at which hour the most comments occur."
   ]
  },
  {
   "cell_type": "code",
   "execution_count": 6,
   "metadata": {},
   "outputs": [
    {
     "name": "stdout",
     "output_type": "stream",
     "text": [
      "{'09': 45, '13': 85, '10': 59, '14': 107, '16': 108, '23': 68, '12': 73, '17': 100, '15': 116, '21': 109, '20': 80, '02': 58, '18': 109, '03': 54, '05': 46, '19': 110, '01': 60, '22': 71, '08': 48, '04': 47, '00': 55, '06': 44, '07': 34, '11': 58}\n",
      "\n",
      "{'09': 251, '13': 1253, '10': 793, '14': 1416, '16': 1814, '23': 543, '12': 687, '17': 1146, '15': 4477, '21': 1745, '20': 1722, '02': 1381, '18': 1439, '03': 421, '05': 464, '19': 1188, '01': 683, '22': 479, '08': 492, '04': 337, '00': 447, '06': 397, '07': 267, '11': 641}\n"
     ]
    }
   ],
   "source": [
    "import datetime as dt\n",
    "\n",
    "result_list = []\n",
    "for row in ask_posts:\n",
    "    created_at = row[6]\n",
    "    num_comments = int(row[4])\n",
    "    result_list.append([created_at, num_comments])    #created new list\n",
    "    \n",
    "count_by_hour = {}              #amount of ask posts for each hour\n",
    "comments_by_hour = {}           #number of comments from the post\n",
    "\n",
    "for row in result_list:\n",
    "    time_stamp = row[0]\n",
    "    comments = row[1]\n",
    "    date = dt.datetime.strptime(time_stamp, \"%m/%d/%Y %H:%M\")   #standardized the date\n",
    "    hour = date.strftime(\"%H\")                                  #parsing it out to our liking\n",
    "    \n",
    "    if hour not in count_by_hour:                                #creating a frequency table with hour and comments\n",
    "        count_by_hour[hour] = 1\n",
    "        comments_by_hour[hour] = comments\n",
    "    else:\n",
    "        count_by_hour[hour] += 1\n",
    "        comments_by_hour[hour] += comments\n",
    "\n",
    "print(count_by_hour)\n",
    "print(\"\")\n",
    "print(comments_by_hour)"
   ]
  },
  {
   "cell_type": "markdown",
   "metadata": {},
   "source": [
    "In our first list we see that it is separated by amount of ask posts during that hour.  For example, '09': 45 means that at 9:00 am, there were 45 posts.\n",
    "\n",
    "In our second list we see that it is separeted by amount of ask comments during that hour.  For example, '09': 251 means that at 9:00 am, there were 251 comments made.\n",
    "\n",
    "_Now let's look at average number of comments during that specific hour._"
   ]
  },
  {
   "cell_type": "code",
   "execution_count": 7,
   "metadata": {},
   "outputs": [
    {
     "name": "stdout",
     "output_type": "stream",
     "text": [
      "[['09', 5.58], ['13', 14.74], ['10', 13.44], ['14', 13.23], ['16', 16.8], ['23', 7.99], ['12', 9.41], ['17', 11.46], ['15', 38.59], ['21', 16.01], ['20', 21.52], ['02', 23.81], ['18', 13.2], ['03', 7.8], ['05', 10.09], ['19', 10.8], ['01', 11.38], ['22', 6.75], ['08', 10.25], ['04', 7.17], ['00', 8.13], ['06', 9.02], ['07', 7.85], ['11', 11.05]]\n"
     ]
    }
   ],
   "source": [
    "avg_by_hour = []\n",
    "\n",
    "for hour in comments_by_hour:\n",
    "    avg_by_hour.append([hour, round((comments_by_hour[hour]/count_by_hour[hour]), 2)])   #finding average and rounding 2 decimal places\n",
    "    \n",
    "print(avg_by_hour)"
   ]
  },
  {
   "cell_type": "markdown",
   "metadata": {},
   "source": [
    "For example, '09', 5.58 means at 9:00 am there was an average of almost 6 comments per post.\n",
    "\n",
    "Let's sort this out to make the data more ledgible."
   ]
  },
  {
   "cell_type": "code",
   "execution_count": 8,
   "metadata": {},
   "outputs": [
    {
     "name": "stdout",
     "output_type": "stream",
     "text": [
      "[[5.58, '09'], [14.74, '13'], [13.44, '10'], [13.23, '14'], [16.8, '16'], [7.99, '23'], [9.41, '12'], [11.46, '17'], [38.59, '15'], [16.01, '21'], [21.52, '20'], [23.81, '02'], [13.2, '18'], [7.8, '03'], [10.09, '05'], [10.8, '19'], [11.38, '01'], [6.75, '22'], [10.25, '08'], [7.17, '04'], [8.13, '00'], [9.02, '06'], [7.85, '07'], [11.05, '11']]\n"
     ]
    }
   ],
   "source": [
    "swap_avg_by_hour = []\n",
    "\n",
    "for row in avg_by_hour:\n",
    "    swap_avg_by_hour.append([row[1], row[0]])   #avg comments, hour - personal preference\n",
    "    \n",
    "print(swap_avg_by_hour)"
   ]
  },
  {
   "cell_type": "code",
   "execution_count": 9,
   "metadata": {},
   "outputs": [
    {
     "data": {
      "text/plain": [
       "[[38.59, '15'],\n",
       " [23.81, '02'],\n",
       " [21.52, '20'],\n",
       " [16.8, '16'],\n",
       " [16.01, '21'],\n",
       " [14.74, '13'],\n",
       " [13.44, '10'],\n",
       " [13.23, '14'],\n",
       " [13.2, '18'],\n",
       " [11.46, '17'],\n",
       " [11.38, '01'],\n",
       " [11.05, '11'],\n",
       " [10.8, '19'],\n",
       " [10.25, '08'],\n",
       " [10.09, '05'],\n",
       " [9.41, '12'],\n",
       " [9.02, '06'],\n",
       " [8.13, '00'],\n",
       " [7.99, '23'],\n",
       " [7.85, '07'],\n",
       " [7.8, '03'],\n",
       " [7.17, '04'],\n",
       " [6.75, '22'],\n",
       " [5.58, '09']]"
      ]
     },
     "execution_count": 9,
     "metadata": {},
     "output_type": "execute_result"
    }
   ],
   "source": [
    "sorted_swap = sorted(swap_avg_by_hour, reverse = True)   #descending order\n",
    "sorted_swap"
   ]
  },
  {
   "cell_type": "code",
   "execution_count": 10,
   "metadata": {},
   "outputs": [
    {
     "name": "stdout",
     "output_type": "stream",
     "text": [
      "Top 5 Hours for Ask Post Comment\n",
      "\n",
      "15:00: 38.59 average comments per post\n",
      "02:00: 23.81 average comments per post\n",
      "20:00: 21.52 average comments per post\n",
      "16:00: 16.80 average comments per post\n",
      "21:00: 16.01 average comments per post\n"
     ]
    }
   ],
   "source": [
    "print(\"Top 5 Hours for Ask Post Comment\")\n",
    "print(\"\")\n",
    "for avg, hour in sorted_swap[:5]:\n",
    "    hr_dt = dt.datetime.strptime(str(hour),'%H')     #standarizing\n",
    "    hr_str = hr_dt.strftime(\"%H:%M\")                 #formatting to our liking\n",
    "    print(\"{}: {:.2f} average comments per post\".format(hr_str, avg))       "
   ]
  },
  {
   "cell_type": "markdown",
   "metadata": {},
   "source": [
    "# Conclusion\n",
    "\n",
    "We can see that at 3:00 p.m.(EST) or hour 15 has the most average comments per post with 38.59.  We can use this business intelligence to maximize the amount of comments that are aquired when making a post on Hacker Noon in the Ask HN catergory."
   ]
  }
 ],
 "metadata": {
  "kernelspec": {
   "display_name": "Python 3",
   "language": "python",
   "name": "python3"
  },
  "language_info": {
   "codemirror_mode": {
    "name": "ipython",
    "version": 3
   },
   "file_extension": ".py",
   "mimetype": "text/x-python",
   "name": "python",
   "nbconvert_exporter": "python",
   "pygments_lexer": "ipython3",
   "version": "3.7.6"
  }
 },
 "nbformat": 4,
 "nbformat_minor": 4
}
